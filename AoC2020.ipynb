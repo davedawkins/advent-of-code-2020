{
 "cells": [
  {
   "cell_type": "markdown",
   "metadata": {},
   "source": [
    "## Advent of Code ##\n",
    "\n",
    "### Day 1 - Part 1"
   ]
  },
  {
   "cell_type": "code",
   "execution_count": 1,
   "metadata": {},
   "source": [
    "#!fsharp\n",
    "open System\n",
    "\n",
    "#!value --name dataFile1 --from-file day1data.txt\n",
    ""
   ],
   "outputs": []
  },
  {
   "cell_type": "code",
   "execution_count": 1,
   "metadata": {},
   "source": [
    "#!fsharp\n",
    "#!share dataFile1 --from value\n",
    "\n",
    "// For [ a; b; c; d ]\n",
    "// =>   (allPairs [ a ] [ b; c; d ]) + (allPairs [ b ] [ c; d] + ...)\n",
    "let rec selfPairs (nums: int list) =\n",
    "    match nums with\n",
    "    | [] -> []\n",
    "    | x :: xs -> (List.allPairs [x] xs) @ (selfPairs xs)\n",
    "\n",
    "//\n",
    "// a |> b means b(a). It's like a pipe operation, and it means you\n",
    "// don't get large amounts of nested parentheses\n",
    "//\n",
    "\n",
    "dataFile1.Trim().Split null         // make words\n",
    "    |> Array.map Int32.Parse   // to numbers array\n",
    "    |> Array.toList            // to numbers list (ie, head::tail)\n",
    "    |> selfPairs               // all possible pairs \n",
    "    |> List.filter (fun (a,b) -> a + b = 2020)  // pairs that add to 2020\n",
    "    |> List.map (fun (a,b) -> a * b)  // products of pairs\n",
    "    |> List.head               // List -> number (expecting single element list)\n",
    "\n",
    ""
   ],
   "outputs": [
    {
     "output_type": "execute_result",
     "data": {
      "text/html": "<div class=\"dni-plaintext\">980499</div>"
     },
     "execution_count": 1,
     "metadata": {}
    }
   ]
  },
  {
   "cell_type": "markdown",
   "metadata": {},
   "source": [
    "## Day 1 - Part 2"
   ]
  },
  {
   "cell_type": "code",
   "execution_count": 1,
   "metadata": {},
   "source": [
    "#!fsharp\n",
    "// For [ a; b; c; d ]\n",
    "// =>   (allPairs [ a ] [ b; c; d ]) + (allPairs [ b ] [ c; d] + ...)\n",
    "let rec selfPairs (nums: int list) =\n",
    "    match nums with\n",
    "    | [] -> []\n",
    "    | x :: xs -> (List.allPairs [x] xs) @ (selfPairs xs)\n",
    "\n",
    "//\n",
    "// We could flatten the resulting  (float, (float,float))\n",
    "// value into an array, but I'll resist. \n",
    "//\n",
    "// That would be useful though, since it means the sum filter could map (+) across \n",
    "// that array and the result calculation could map (*) across the matching array\n",
    "//\n",
    "let rec selfTriples (nums: int list) : (int*(int*int)) list  =\n",
    "    match nums with\n",
    "    | [] -> []\n",
    "    | x :: xs -> (List.allPairs [ x ] (selfPairs xs)) @ (selfTriples xs)\n",
    "\n",
    "dataFile1.Trim().Split null         // make words\n",
    "    |> Array.map Int32.Parse   // to numbers array\n",
    "    |> Array.toList            // to numbers list (ie, head::tail)\n",
    "    |> selfTriples             // all possible triples \n",
    "    |> List.filter (fun (a,(b,c)) -> a + b + c = 2020)  // triples that add to 2020\n",
    "    |> List.map (fun (a,(b,c)) -> a * b * c)  // products of triples\n",
    "    |> List.head               // List -> number (expecting single element list)"
   ],
   "outputs": [
    {
     "output_type": "execute_result",
     "data": {
      "text/html": "<div class=\"dni-plaintext\">200637446</div>"
     },
     "execution_count": 1,
     "metadata": {}
    }
   ]
  },
  {
   "cell_type": "markdown",
   "metadata": {},
   "source": [
    "## Day 2"
   ]
  },
  {
   "cell_type": "code",
   "execution_count": 1,
   "metadata": {},
   "source": [
    "#!fsharp\n",
    "#!value --name dataFile2 --from-file day2data.txt"
   ],
   "outputs": []
  },
  {
   "cell_type": "code",
   "execution_count": 1,
   "metadata": {},
   "source": [
    "#!fsharp\n",
    "#!share dataFile2 --from value\n",
    "\n",
    "open System\n",
    "\n",
    "type Rule = {\n",
    "    Min : int\n",
    "    Max : int\n",
    "    Letter : char\n",
    "}\n",
    "\n",
    "type Entry = {\n",
    "    Rule : Rule\n",
    "    Password : string\n",
    "}\n",
    "\n",
    "let parseRule (text : string) =\n",
    "    let tokens = text.Split()\n",
    "    let minMax = tokens.[0].Split('-');\n",
    "    {\n",
    "        Min = Int32.Parse(minMax.[0])\n",
    "        Max = Int32.Parse(minMax.[1])\n",
    "        Letter = tokens.[1].[0]\n",
    "    }\n",
    "\n",
    "let isValid (entry : Entry) =\n",
    "    let n = entry.Password.ToCharArray() |> Array.filter ((=) entry.Rule.Letter) |> Array.length\n",
    "    n >= entry.Rule.Min && n <= entry.Rule.Max\n",
    "\n",
    "dataFile2.Split('\\n',StringSplitOptions.RemoveEmptyEntries)\n",
    "    |> Array.map (fun line -> \n",
    "        let rulePassword = line.Split(':')\n",
    "        { Rule = parseRule( rulePassword.[0] ); Password = rulePassword.[1].Trim() }\n",
    "    )\n",
    "    |> Array.filter isValid\n",
    "    |> Array.length"
   ],
   "outputs": [
    {
     "output_type": "execute_result",
     "data": {
      "text/html": "<div class=\"dni-plaintext\">572</div>"
     },
     "execution_count": 1,
     "metadata": {}
    }
   ]
  },
  {
   "cell_type": "markdown",
   "metadata": {},
   "source": [
    "## Day 2 - Part 2"
   ]
  },
  {
   "cell_type": "code",
   "execution_count": 1,
   "metadata": {},
   "source": [
    "#!fsharp\n",
    "type Rule = {\n",
    "    Pos1 : int\n",
    "    Pos2 : int\n",
    "    Letter : char\n",
    "}\n",
    "\n",
    "type Entry = {\n",
    "    Rule : Rule\n",
    "    Password : string\n",
    "}\n",
    "\n",
    "let parseRule (text : string) =\n",
    "    let tokens = text.Split()\n",
    "    let posPair = tokens.[0].Split('-');\n",
    "    {\n",
    "        Pos1 = Int32.Parse(posPair.[0])\n",
    "        Pos2 = Int32.Parse(posPair.[1])\n",
    "        Letter = tokens.[1].[0]\n",
    "    }\n",
    "\n",
    "let isValid (entry : Entry) =\n",
    "    let n = entry.Password.ToCharArray() |> Array.filter ((=) entry.Rule.Letter) |> Array.length\n",
    "    let match1 = entry.Password.[entry.Rule.Pos1-1] = entry.Rule.Letter\n",
    "    let match2 = entry.Password.[entry.Rule.Pos2-1] = entry.Rule.Letter\n",
    "    match1 <> match2\n",
    "\n",
    "dataFile2.Split('\\n',StringSplitOptions.RemoveEmptyEntries)\n",
    "    |> Array.map (fun line -> \n",
    "        let rulePassword = line.Split(':')\n",
    "        { Rule = parseRule( rulePassword.[0] ); Password = rulePassword.[1].Trim() }\n",
    "    )\n",
    "    |> Array.filter isValid\n",
    "    |> Array.length"
   ],
   "outputs": [
    {
     "output_type": "execute_result",
     "data": {
      "text/html": "<div class=\"dni-plaintext\">306</div>"
     },
     "execution_count": 1,
     "metadata": {}
    }
   ]
  },
  {
   "cell_type": "markdown",
   "metadata": {},
   "source": [
    "## Day 3"
   ]
  },
  {
   "cell_type": "code",
   "execution_count": 1,
   "metadata": {},
   "source": [
    "#!fsharp\n",
    "#!value --name dataFile3 --from-file day3data.txt"
   ],
   "outputs": []
  },
  {
   "cell_type": "code",
   "execution_count": 1,
   "metadata": {},
   "source": [
    "#!fsharp\n",
    "#!share dataFile3 --from value\n",
    "\n",
    "let map = dataFile3.Split('\\n',StringSplitOptions.RemoveEmptyEntries)\n",
    "\n",
    "[ 1 .. (map.Length-1) ] \n",
    "    |> List.filter (fun y -> \n",
    "        let x = (y * 3) % map.[y].Length \n",
    "        map.[y].[x] = '#'\n",
    "    )\n",
    "    |> List.length"
   ],
   "outputs": [
    {
     "output_type": "execute_result",
     "data": {
      "text/html": "<div class=\"dni-plaintext\">254</div>"
     },
     "execution_count": 1,
     "metadata": {}
    }
   ]
  },
  {
   "cell_type": "code",
   "execution_count": 1,
   "metadata": {},
   "source": [
    "#!fsharp\n",
    "#!share dataFile3 --from value\n",
    "\n",
    "let map = dataFile3.Split('\\n',StringSplitOptions.RemoveEmptyEntries)\n",
    "\n",
    "let treesEncountered (slopeX,slopeY) =\n",
    "    [ slopeY .. slopeY .. (map.Length-1) ] \n",
    "        |> List.filter (fun y -> \n",
    "            let x = (y * slopeX) % map.[y].Length \n",
    "            map.[y].[x] = '#'\n",
    "        )\n",
    "        |> List.length\n",
    "\n",
    "[\n",
    "    (1, 1)\n",
    "    (3, 1)\n",
    "    (5, 1)\n",
    "    (7, 1)\n",
    "    (1, 2)\n",
    "] |> List.map treesEncountered |> List.fold (*) 1\n",
    ""
   ],
   "outputs": [
    {
     "output_type": "execute_result",
     "data": {
      "text/html": "<div class=\"dni-plaintext\">1666768320</div>"
     },
     "execution_count": 1,
     "metadata": {}
    }
   ]
  }
 ],
 "metadata": {
  "kernelspec": {
   "display_name": ".NET (C#)",
   "language": "C#",
   "name": ".net-csharp"
  },
  "language_info": {
   "file_extension": ".cs",
   "mimetype": "text/x-csharp",
   "name": "C#",
   "pygments_lexer": "csharp",
   "version": "8.0"
  }
 },
 "nbformat": 4,
 "nbformat_minor": 4
}